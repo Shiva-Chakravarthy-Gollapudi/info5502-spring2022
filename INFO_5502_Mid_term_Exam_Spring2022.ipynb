{
  "cells": [
    {
      "cell_type": "markdown",
      "metadata": {
        "id": "view-in-github",
        "colab_type": "text"
      },
      "source": [
        "<a href=\"https://colab.research.google.com/github/Shiva-Chakravarthy-Gollapudi/info5502-spring2022/blob/main/INFO_5502_Mid_term_Exam_Spring2022.ipynb\" target=\"_parent\"><img src=\"https://colab.research.google.com/assets/colab-badge.svg\" alt=\"Open In Colab\"/></a>"
      ]
    },
    {
      "cell_type": "markdown",
      "metadata": {
        "id": "iXF6EORJsLWS"
      },
      "source": [
        "### INFO 5502 Mid-term Exam (03/10/2022, 80 points in total)"
      ]
    },
    {
      "cell_type": "code",
      "source": [
        "\n",
        "from datascience import *\n",
        "\n",
        "import pandas as pd\n",
        "import numpy as np\n",
        "import seaborn as sns\n",
        "import matplotlib.pyplot as plt\n",
        "%matplotlib inline\n",
        "\n",
        "from sklearn.linear_model import LogisticRegression \n",
        "from sklearn.naive_bayes import GaussianNB\n",
        "from sklearn.metrics import confusion_matrix ,classification_report,precision_score, recall_score ,f1_score "
      ],
      "metadata": {
        "id": "V_5VtLjjwGcR"
      },
      "execution_count": 70,
      "outputs": []
    },
    {
      "cell_type": "markdown",
      "metadata": {
        "id": "25QYDLPssLWT"
      },
      "source": [
        "<span style='background:yellow'>**Question 1 (5 pt).**</span> Make an array called `weird_numbers` containing the following numbers (in the given order):\n",
        "\n",
        "1. -3\n",
        "2. the sine of 2.1\n",
        "3. 5\n",
        "4. 4 to the power of the cosine of 4.2\n",
        "\n",
        "*Hint:* `sin` and `cos` are functions in the `math` module."
      ]
    },
    {
      "cell_type": "code",
      "execution_count": 20,
      "metadata": {
        "colab": {
          "base_uri": "https://localhost:8080/"
        },
        "id": "0gDBgWxSsLWT",
        "outputId": "8a00b3f6-6a0d-4220-c44b-43ddb85d5d02"
      },
      "outputs": [
        {
          "output_type": "stream",
          "name": "stdout",
          "text": [
            "[-3, 0.8632093666488737, 5, 0.5067964617539602]\n"
          ]
        }
      ],
      "source": [
        "#### You code here\n",
        "\n",
        "\n",
        "import math as m\n",
        "\n",
        "weird_numbers=[]\n",
        "weird_numbers.append(-3)\n",
        "weird_numbers.append(m.sin(2.1))\n",
        "weird_numbers.append(5)\n",
        "weird_numbers.append(pow(4,m.cos(4.2)))\n",
        "\n",
        "# printing the array of numbers \n",
        "print(weird_numbers) "
      ]
    },
    {
      "cell_type": "markdown",
      "metadata": {
        "id": "7MU0nfudsLWT"
      },
      "source": [
        "<span style='background:yellow'>**Question 2 (5 pt).**</span> Write a simple function that takes in a number (weight in pounds) and returns a number which is the coreesponding conversion to kg.\n",
        "\n",
        "Test it by calling the function on 15 and 27. E.g., `convert_pounds_to_kg(15)`, `convert_pounds_to_kg(27)`. Print both to screen.\n",
        "\n",
        "Hint: 1 pound = 0.453592 kg"
      ]
    },
    {
      "cell_type": "code",
      "execution_count": 21,
      "metadata": {
        "colab": {
          "base_uri": "https://localhost:8080/"
        },
        "id": "DEsE3q7gsLWU",
        "outputId": "64033913-aee0-4b91-ada3-ca40fdca24db"
      },
      "outputs": [
        {
          "output_type": "stream",
          "name": "stdout",
          "text": [
            "6.8038799999999995\n",
            "12.246984\n"
          ]
        }
      ],
      "source": [
        "#### You code here\n",
        "\n",
        "def convert_pounds_to_kg(number):\n",
        "    \"\"\"Converts a number in pounds to kg.\"\"\"\n",
        "    kgs = number * 0.453592\n",
        "    return kgs\n",
        "\n",
        "    \n",
        "    \n",
        "print(convert_pounds_to_kg(15))\n",
        "print(convert_pounds_to_kg(27))\n"
      ]
    },
    {
      "cell_type": "markdown",
      "metadata": {
        "id": "3rjaHDGnsLWU"
      },
      "source": [
        "<span style='background:yellow'>**Question 3 (5 pt).**</span> We've loaded an array of temperatures in the next cell.  Each number is the highest temperature observed on a day at a climate observation station, mostly from the US.  Since they're from the US government agency [NOAA](noaa.gov), all the temperatures are in Fahrenheit.  Convert them all to Celsius by first subtracting 32 from them, then multiplying the results by $\\frac{5}{9}$. Make sure to **ROUND** the final result after converting to Celsius to the nearest integer using the `np.round` function. Download the data from here: https://github.com/unt-iialab/info5502-spring2022/blob/main/datasets/temperatures.csv"
      ]
    },
    {
      "cell_type": "code",
      "execution_count": 22,
      "metadata": {
        "colab": {
          "base_uri": "https://localhost:8080/"
        },
        "id": "W-es54RPsLWU",
        "outputId": "921b0416-6df4-41c0-e0ec-489603c3ade7"
      },
      "outputs": [
        {
          "output_type": "execute_result",
          "data": {
            "text/plain": [
              "array([-4., 31., 32., ..., 17., 23., 16.])"
            ]
          },
          "metadata": {},
          "execution_count": 22
        }
      ],
      "source": [
        "#### You code here\n",
        "\n",
        "max_temperatures = Table.read_table(\"temperatures.csv\").column(\"Daily Max Temperature\")\n",
        "\n",
        "celsius_max_temperatures = np.round((max_temperatures - 32) * (5/9))\n",
        "\n",
        "celsius_max_temperatures\n",
        "\n"
      ]
    },
    {
      "cell_type": "markdown",
      "metadata": {
        "id": "2sm0uG4WsLWU"
      },
      "source": [
        "<span style='background:yellow'>**Question 4 (5 pt).**</span> Suppose you have 4 apples, 3 oranges, and 3 pineapples.  (Perhaps you're using Python to solve a high school Algebra problem.)  Create a table that contains this information.  It should have two columns: `fruit name` and `count`.  Assign the new table to the variable `fruits`.\n",
        "\n",
        "**Note:** Use lower-case and singular words for the name of each fruit, like `\"apple\"`."
      ]
    },
    {
      "cell_type": "code",
      "execution_count": 31,
      "metadata": {
        "colab": {
          "base_uri": "https://localhost:8080/",
          "height": 143
        },
        "id": "TgVwYgePsLWU",
        "outputId": "beaebfe5-b0fd-4ff9-a5ea-bb8ced4e7c87"
      },
      "outputs": [
        {
          "output_type": "execute_result",
          "data": {
            "text/html": [
              "<table border=\"1\" class=\"dataframe\">\n",
              "    <thead>\n",
              "        <tr>\n",
              "            <th>fruit name</th> <th>count</th>\n",
              "        </tr>\n",
              "    </thead>\n",
              "    <tbody>\n",
              "        <tr>\n",
              "            <td>apple     </td> <td>4    </td>\n",
              "        </tr>\n",
              "        <tr>\n",
              "            <td>orange    </td> <td>3    </td>\n",
              "        </tr>\n",
              "        <tr>\n",
              "            <td>pineapple </td> <td>3    </td>\n",
              "        </tr>\n",
              "    </tbody>\n",
              "</table>"
            ],
            "text/plain": [
              "fruit name | count\n",
              "apple      | 4\n",
              "orange     | 3\n",
              "pineapple  | 3"
            ]
          },
          "metadata": {},
          "execution_count": 31
        }
      ],
      "source": [
        "#### You code here\n",
        "\n",
        "fruits = Table().with_columns('fruit name',make_array('apple','orange','pineapple'),\n",
        "                      'count',make_array(4,3,3))\n",
        "                           \n",
        "fruits"
      ]
    },
    {
      "cell_type": "markdown",
      "metadata": {
        "id": "K7YHnFIHsLWU"
      },
      "source": [
        "<span style='background:yellow'>**Question 5 (10 pt).**</span> Below we load a table containing 200,000 weekday Uber rides in the Boston, Massachusetts metropolitan area from the [Uber Movement](https://movement.uber.com) project. The `sourceid` and `dstid` columns contain codes corresponding to start and end locations of each ride. The `hod` column contains codes corresponding to the hour of the day the ride took place. The `ride time` column contains the length of the ride, in minutes. Produce a histogram of all ride times in Boston using the given bins. Download the data from here: https://github.com/unt-iialab/info5502-spring2022/blob/main/datasets/boston.csv"
      ]
    },
    {
      "cell_type": "code",
      "execution_count": 76,
      "metadata": {
        "colab": {
          "base_uri": "https://localhost:8080/",
          "height": 204
        },
        "id": "MNVA3ac7sLWU",
        "outputId": "2c0254b3-46c2-4556-864e-1f67db610cd7"
      },
      "outputs": [
        {
          "output_type": "display_data",
          "data": {
            "text/html": [
              "<table border=\"1\" class=\"dataframe\">\n",
              "    <thead>\n",
              "        <tr>\n",
              "            <th>sourceid</th> <th>dstid</th> <th>hod</th> <th>ride time</th>\n",
              "        </tr>\n",
              "    </thead>\n",
              "    <tbody>\n",
              "        <tr>\n",
              "            <td>584     </td> <td>33   </td> <td>7   </td> <td>11.866   </td>\n",
              "        </tr>\n",
              "        <tr>\n",
              "            <td>1013    </td> <td>1116 </td> <td>13  </td> <td>17.7993  </td>\n",
              "        </tr>\n",
              "        <tr>\n",
              "            <td>884     </td> <td>1190 </td> <td>22  </td> <td>19.3488  </td>\n",
              "        </tr>\n",
              "        <tr>\n",
              "            <td>211     </td> <td>364  </td> <td>1   </td> <td>1.7235   </td>\n",
              "        </tr>\n",
              "    </tbody>\n",
              "</table>\n",
              "<p>... (199996 rows omitted)</p>"
            ],
            "text/plain": [
              "<IPython.core.display.HTML object>"
            ]
          },
          "metadata": {}
        }
      ],
      "source": [
        "#### You code here\n",
        "boston = Table.read_table(\"boston.csv\")\n",
        "boston.show(4)"
      ]
    },
    {
      "cell_type": "code",
      "source": [
        "bins = np.arange(0, 120, 5)\n",
        "boston.hist(\"ride time\", bins=bins, unit=\"Minutes\")"
      ],
      "metadata": {
        "colab": {
          "base_uri": "https://localhost:8080/",
          "height": 284
        },
        "id": "M3lnmEBr0ldQ",
        "outputId": "efdda025-2dbb-48f0-9a4a-55f8033ba6be"
      },
      "execution_count": 79,
      "outputs": [
        {
          "output_type": "display_data",
          "data": {
            "image/png": "[encoded data removed]",
            "text/plain": [
              "<Figure size 432x288 with 1 Axes>"
            ]
          },
          "metadata": {
            "needs_background": "light"
          }
        }
      ]
    },
    {
      "cell_type": "markdown",
      "metadata": {
        "id": "TsC_F2GksLWV"
      },
      "source": [
        "<span style='background:yellow'>**Question 6 (20 pt).**</span> Below is a dataset we collected from this website: https://ddr.densho.org/narrators/?page=1. Narrators are the interview subjects of oral histories contained in the Densho Digital Repository. The interviewees, or narrators, share their life histories to preserve history, educate the public, and promote tolerance. We urge our users to approach these materials in the same spirit. You are required to conduct the exploratory data analysis on the location, year of born, generation, and gender. Please select the best visualiztions to present your results. Download the data from here: https://github.com/unt-iialab/info5502-spring2022/blob/main/datasets/Combined-data.xlsx"
      ]
    },
    {
      "cell_type": "code",
      "execution_count": 134,
      "metadata": {
        "colab": {
          "base_uri": "https://localhost:8080/"
        },
        "id": "1YMKXFlLsLWV",
        "outputId": "244b3f84-bfdf-4471-f29b-ef620c12c8b2"
      },
      "outputs": [
        {
          "output_type": "stream",
          "name": "stdout",
          "text": [
            "                Narrator    Location    Year Generation  Gender\n",
            "0           Kay Aiko Abe  Washington  1927.0      Nisei  female\n",
            "1                Art Abe  Washington  1921.0      Nisei    male\n",
            "2  Sharon Tanagi Aburano  Washington  1925.0      Nisei  female\n",
            "3        Toshiko Aiboshi  California  1928.0      Nisei  female\n",
            "4             Yae Aihara  Washington  1925.0      Nisei  female\n",
            "shape of the date: (904, 5)\n",
            "\n",
            "To find the missing values in each column:\n",
            "Narrator        0\n",
            "Location       72\n",
            "Year          194\n",
            "Generation     54\n",
            "Gender         54\n",
            "dtype: int64\n"
          ]
        }
      ],
      "source": [
        "#### You code here\n",
        "\n",
        "df = pd.read_excel (r'/content/Combined-data.xlsx')\n",
        "print(df.head())\n",
        "print('shape of the date:', df.shape)\n",
        "\n",
        "#to find the null values in the column \n",
        "print('\\nTo find the missing values in each column:')\n",
        "print(df.isnull().sum())\n",
        "\n",
        "# check the distribution of Age\n",
        "# dropping the rows that have null values in  Year column"
      ]
    },
    {
      "cell_type": "code",
      "source": [
        "#Removing the null values \n",
        "df1 = df.dropna()\n",
        "print(df1.isnull().sum())\n",
        "print('\\nshape of the data after removing the null values:', df1.shape)"
      ],
      "metadata": {
        "colab": {
          "base_uri": "https://localhost:8080/"
        },
        "id": "ezG-VvB_GzIG",
        "outputId": "4b95ae04-f081-4e61-9165-75148e15546c"
      },
      "execution_count": 149,
      "outputs": [
        {
          "output_type": "stream",
          "name": "stdout",
          "text": [
            "Narrator      0\n",
            "Location      0\n",
            "Year          0\n",
            "Generation    0\n",
            "Gender        0\n",
            "dtype: int64\n",
            "\n",
            "shape of the data after removing the null values: (645, 5)\n"
          ]
        }
      ]
    },
    {
      "cell_type": "code",
      "source": [
        "# Gender count\n",
        "print(df1.Gender.value_counts())\n",
        "sns.countplot(x = 'Gender', data = df1);"
      ],
      "metadata": {
        "colab": {
          "base_uri": "https://localhost:8080/",
          "height": 697
        },
        "id": "41RqDoowJkRg",
        "outputId": "7bb3e1b0-e168-4cbc-9eb1-11f19e33a8e7"
      },
      "execution_count": 152,
      "outputs": [
        {
          "output_type": "stream",
          "name": "stdout",
          "text": [
            "male      360\n",
            "female    285\n",
            "Name: Gender, dtype: int64\n"
          ]
        },
        {
          "output_type": "display_data",
          "data": {
            "image/png": "[encoded data removed]",
            "text/plain": [
              "<Figure size 432x288 with 1 Axes>"
            ]
          },
          "metadata": {
            "needs_background": "light"
          }
        },
        {
          "output_type": "display_data",
          "data": {
            "image/png": "[encoded data removed]",
            "text/plain": [
              "<Figure size 600x400 with 1 Axes>"
            ]
          },
          "metadata": {
            "needs_background": "light"
          }
        }
      ]
    },
    {
      "cell_type": "code",
      "source": [
        "plt.figure(dpi = 120)\n",
        "sns.countplot(x = 'Generation',hue='Gender', data = df1);"
      ],
      "metadata": {
        "colab": {
          "base_uri": "https://localhost:8080/",
          "height": 457
        },
        "id": "xZzs1yp3J75v",
        "outputId": "9182a13a-4ef4-406c-9ad1-4202806dd40d"
      },
      "execution_count": 154,
      "outputs": [
        {
          "output_type": "display_data",
          "data": {
            "image/png": "[encoded data removed]",
            "text/plain": [
              "<Figure size 720x480 with 1 Axes>"
            ]
          },
          "metadata": {
            "needs_background": "light"
          }
        }
      ]
    },
    {
      "cell_type": "markdown",
      "metadata": {
        "id": "QY3t3_4qsLWV"
      },
      "source": [
        "<span style='background:yellow'>**Question 7.**</span> **Monkeys Typing Shakespeare** A monkey is banging repeatedly on the keys of a typewriter. Each time, the monkey is equally likely to hit any of the 26 lowercase letters of the English alphabet, 26 uppercase letters of the English alphabet, and any number between 0-9 (inclusive), regardless of what it has hit before. There are no other keys on the keyboard.  \n",
        "\n",
        "This question is inspired by a mathematical theorem called the Infinite monkey theorem (<https://en.wikipedia.org/wiki/Infinite_monkey_theorem>), which postulates that if you put a monkey in the situation described above for an infinite time, they will eventually type out all of Shakespeare’s works."
      ]
    },
    {
      "cell_type": "markdown",
      "metadata": {
        "id": "JpJuVbIzsLWV"
      },
      "source": [
        "<span style='background:yellow'>**Question 7-1 (10 pt).**</span> Suppose the monkey hits the keyboard 5 times.  Compute the chance that the monkey types the sequence `Data8`.  (Call this `data_chance`.) Use algebra and type in an arithmetic equation that Python can evalute."
      ]
    },
    {
      "cell_type": "code",
      "execution_count": 124,
      "metadata": {
        "colab": {
          "base_uri": "https://localhost:8080/"
        },
        "id": "aDOphaVksLWV",
        "outputId": "312f260c-d911-42fc-bdd4-6a588e6587d6"
      },
      "outputs": [
        {
          "output_type": "execute_result",
          "data": {
            "text/plain": [
              "1.0915447684774164e-09"
            ]
          },
          "metadata": {},
          "execution_count": 124
        }
      ],
      "source": [
        "#### You code here\n",
        "import math\n",
        "\n",
        "data_chance=pow((1/62),5)\n",
        "data_chance"
      ]
    },
    {
      "cell_type": "markdown",
      "metadata": {
        "id": "noabnMezsLWV"
      },
      "source": [
        "<span style='background:yellow'>**Question 7-2 (10 pt).**</span> Write a function called `simulate_key_strike`.  It should take **no arguments**, and it should return a random one-character string that is equally likely to be any of the 26 lower-case English letters, 26 upper-case English letters, or any number between 0-9 (inclusive). "
      ]
    },
    {
      "cell_type": "code",
      "execution_count": 123,
      "metadata": {
        "colab": {
          "base_uri": "https://localhost:8080/"
        },
        "id": "8CHcPAlqsLWW",
        "outputId": "3c8461fd-20bc-4ab7-92f2-8b6acd3c1111"
      },
      "outputs": [
        {
          "output_type": "stream",
          "name": "stdout",
          "text": [
            "Returned character: C\n"
          ]
        }
      ],
      "source": [
        "#### You code here\n",
        "import string\n",
        "from numpy import random as rand\n",
        "\n",
        "all_set =  list(string.ascii_lowercase + string.ascii_uppercase + string.digits)\n",
        "\n",
        "def simulate_key_strike():\n",
        "   # Selecting a random character from 'letters' and returning it.\n",
        "   char = rand.choice(all_set)\n",
        "   return char\n",
        "\n",
        "# Printing output of function\n",
        "print(\"Returned character:\", simulate_key_strike())"
      ]
    },
    {
      "cell_type": "markdown",
      "metadata": {
        "id": "HIY8RM_GsLWW"
      },
      "source": [
        "<span style='background:yellow'>**Question 7-3 (10 pt).**</span> Write a function called `simulate_several_key_strikes`.  It should take one argument: an integer specifying the number of key strikes to simulate. It should return a string containing that many characters, each one obtained from simulating a key strike by the monkey.\n",
        "\n",
        "*Hint:* If you make a list or array of the simulated key strikes called `key_strikes_array`, you can convert that to a string by calling `\"\".join(key_strikes_array)`"
      ]
    },
    {
      "cell_type": "code",
      "execution_count": 120,
      "metadata": {
        "colab": {
          "base_uri": "https://localhost:8080/"
        },
        "id": "hXf6SPhfsLWW",
        "outputId": "c20aa666-defe-4971-ebdc-36dab826e484"
      },
      "outputs": [
        {
          "output_type": "stream",
          "name": "stdout",
          "text": [
            "zmOHTOEru0\n"
          ]
        }
      ],
      "source": [
        "#### You code here\n",
        "\n",
        "import random\n",
        "import string\n",
        "\n",
        "def simulate_several_key_strikes(l):\n",
        "   all_set =  list(string.ascii_lowercase + string.ascii_uppercase + string.digits)\n",
        "   return ''.join(random.choice(all_set) for i in range(l))\n",
        "print (simulate_several_key_strikes(10))"
      ]
    }
  ],
  "metadata": {
    "kernelspec": {
      "display_name": "Python 3",
      "language": "python",
      "name": "python3"
    },
    "language_info": {
      "codemirror_mode": {
        "name": "ipython",
        "version": 3
      },
      "file_extension": ".py",
      "mimetype": "text/x-python",
      "name": "python",
      "nbconvert_exporter": "python",
      "pygments_lexer": "ipython3",
      "version": "3.8.5"
    },
    "colab": {
      "name": "INFO 5502-Mid-term Exam-Spring2022.ipynb",
      "provenance": [],
      "include_colab_link": true
    }
  },
  "nbformat": 4,
  "nbformat_minor": 0
}